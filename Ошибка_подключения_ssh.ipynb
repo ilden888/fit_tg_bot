{
  "nbformat": 4,
  "nbformat_minor": 0,
  "metadata": {
    "colab": {
      "provenance": [],
      "authorship_tag": "ABX9TyPZcgZYQULsJPVuo4jvwSSu",
      "include_colab_link": true
    },
    "kernelspec": {
      "name": "python3",
      "display_name": "Python 3"
    },
    "language_info": {
      "name": "python"
    }
  },
  "cells": [
    {
      "cell_type": "markdown",
      "metadata": {
        "id": "view-in-github",
        "colab_type": "text"
      },
      "source": [
        "<a href=\"https://colab.research.google.com/github/ilden888/fit_tg_bot/blob/main/%D0%9E%D1%88%D0%B8%D0%B1%D0%BA%D0%B0_%D0%BF%D0%BE%D0%B4%D0%BA%D0%BB%D1%8E%D1%87%D0%B5%D0%BD%D0%B8%D1%8F_ssh.ipynb\" target=\"_parent\"><img src=\"https://colab.research.google.com/assets/colab-badge.svg\" alt=\"Open In Colab\"/></a>"
      ]
    },
    {
      "cell_type": "code",
      "source": [
        "!pip install paramiko\n",
        "!pip install sshtunnel"
      ],
      "metadata": {
        "id": "Jh-vEotP_K7s"
      },
      "execution_count": null,
      "outputs": []
    },
    {
      "cell_type": "code",
      "execution_count": null,
      "metadata": {
        "id": "osXNYPzF-9Xs"
      },
      "outputs": [],
      "source": [
        "import paramiko"
      ]
    },
    {
      "cell_type": "code",
      "source": [
        "client = paramiko.SSHClient()\n",
        "client.set_missing_host_key_policy(paramiko.AutoAddPolicy())\n",
        "\n",
        "hostname = \"  \"  # IP адрес или доменное имя сервера\n",
        "username = \"  \"\n",
        "password = \"  \"\n",
        "\n",
        "try:\n",
        "    client.connect(hostname=hostname, username=username, password=password, look_for_keys=False, allow_agent=False)\n",
        "    ssh = client.invoke_shell()\n",
        "    print(\"Успешное подключение!\")\n",
        "except paramiko.AuthenticationException:\n",
        "    print(\"Ошибка аутентификации. Проверьте правильность имени пользователя и пароля.\")\n",
        "except paramiko.SSHException as e:\n",
        "    print(f\"Ошибка SSH: {e}\")\n",
        "except Exception as e:\n",
        "    print(f\"Произошла ошибка: {e}\")\n"
      ],
      "metadata": {
        "colab": {
          "base_uri": "https://localhost:8080/"
        },
        "id": "ahA98WV-Fii_",
        "outputId": "4c1f7327-4f30-4d8e-bc75-1595d025361c"
      },
      "execution_count": null,
      "outputs": [
        {
          "output_type": "stream",
          "name": "stdout",
          "text": [
            "Успешное подключение!\n"
          ]
        }
      ]
    },
    {
      "cell_type": "code",
      "source": [
        "import paramiko\n",
        "\n",
        "client = paramiko.SSHClient()\n",
        "client.set_missing_host_key_policy(paramiko.AutoAddPolicy())\n",
        "\n",
        "hostname = \" \"  # IP адрес или доменное имя сервера\n",
        "username = \" \"\n",
        "password = \" \"\n",
        "\n",
        "try:\n",
        "    client.connect(hostname=hostname, username=username, password=password, look_for_keys=False, allow_agent=False)\n",
        "    print(\"Успешное подключение!\")\n",
        "\n",
        "    # Открываем канал SSH для выполнения команд\n",
        "    ssh_channel = client.invoke_shell()\n",
        "\n",
        "    # Отправляем команду на выполнение\n",
        "    stdin, stdout, stderr = client.exec_command('uptime')\n",
        "\n",
        "    # Читаем результат выполнения команды и выводим его\n",
        "    print(stdout.read().decode())\n",
        "\n",
        "except paramiko.AuthenticationException:\n",
        "    print(\"Ошибка аутентификации. Проверьте правильность имени пользователя и пароля.\")\n",
        "except paramiko.SSHException as e:\n",
        "    print(f\"Ошибка SSH: {e}\")\n",
        "except Exception as e:\n",
        "    print(f\"Произошла ошибка: {e}\")\n"
      ],
      "metadata": {
        "colab": {
          "base_uri": "https://localhost:8080/"
        },
        "id": "y2Th6gzjGWv-",
        "outputId": "6774acce-a2fb-4ede-c664-22cbbe7ec146"
      },
      "execution_count": null,
      "outputs": [
        {
          "output_type": "stream",
          "name": "stdout",
          "text": [
            "Успешное подключение!\n",
            "\n"
          ]
        }
      ]
    },
    {
      "cell_type": "code",
      "source": [
        "import paramiko\n",
        "import time\n",
        "import socket\n",
        "from pprint import pprint\n",
        "\n",
        "def send_show_command(\n",
        "    ip,\n",
        "    username,\n",
        "    password,\n",
        "    commands,\n",
        "    max_bytes=60000,\n",
        "    short_pause=1,\n",
        "    long_pause=5,\n",
        "):\n",
        "    cl = paramiko.SSHClient()\n",
        "    cl.set_missing_host_key_policy(paramiko.AutoAddPolicy())\n",
        "    cl.connect(\n",
        "        hostname=ip,\n",
        "        username=username,\n",
        "        password=password,\n",
        "        look_for_keys=False,\n",
        "        allow_agent=False,\n",
        "    )\n",
        "    with cl.invoke_shell() as ssh:\n",
        "        ssh.send(\"enable\\n\")\n",
        "        time.sleep(short_pause)\n",
        "        ssh.send(\"terminal length 0\\n\")\n",
        "        time.sleep(short_pause)\n",
        "        ssh.recv(max_bytes)\n",
        "\n",
        "        result = {}\n",
        "        for command in commands:\n",
        "            ssh.send(f\"{command}\\n\")\n",
        "            ssh.settimeout(5)\n",
        "\n",
        "            output = \"\"\n",
        "            while True:\n",
        "                try:\n",
        "                    part = ssh.recv(max_bytes).decode(\"utf-8\")\n",
        "                    output += part\n",
        "                    time.sleep(0.5)\n",
        "                except socket.timeout:\n",
        "                    break\n",
        "            result[command] = output\n",
        "\n",
        "        return result\n",
        "\n",
        "if __name__ == \"__main__\":\n",
        "    devices = [\"192.168.100.1\", \"192.168.100.2\", \"192.168.100.3\"]\n",
        "    commands = [\"sh clock\", \"sh arp\"]\n",
        "    hostname = \" \"  # IP адрес или доменное имя сервера\n",
        "    username = \" \"\n",
        "    password = \" \"\n",
        "    result = send_show_command(hostname, username, password, commands)\n",
        "    pprint(result, width=120)\n"
      ],
      "metadata": {
        "id": "rhatK8CyGX1C"
      },
      "execution_count": null,
      "outputs": []
    },
    {
      "cell_type": "code",
      "source": [
        "import sshtunnel\n",
        "from paramiko import SSHClient\n",
        "\n",
        "GW1_ip = \"your_GW1_ip\"\n",
        "GW1_port = 20022\n",
        "GW2_ip = \"your_GW2_ip\"\n",
        "target_ip = \"your_target_ip\"\n",
        "GW2_user = \"your_GW2_user\"\n",
        "GW2_pwd = \"your_GW2_pwd\"\n",
        "target_user = \"your_target_user\"\n",
        "target_pwd = \"your_target_pwd\"\n",
        "\n",
        "hostname = \"  \"  # IP адрес или доменное имя сервера\n",
        "username = \"  \"\n",
        "password = \"  \"\n",
        "\n",
        "with sshtunnel.open_tunnel(\n",
        "    ssh_address_or_host=(GW1_ip, GW1_port),\n",
        "    remote_bind_address=(GW2_ip, 22),\n",
        "    ssh_username=GW2_user,\n",
        "    ssh_password=GW2_pwd,\n",
        ") as tunnel1:\n",
        "    print('Connection to tunnel1 (GW1_ip:GW1_port) OK...')\n",
        "    with sshtunnel.open_tunnel(\n",
        "        ssh_address_or_host=('localhost', tunnel1.local_bind_port),\n",
        "        remote_bind_address=(target_ip, 22),\n",
        "        ssh_username=target_user,\n",
        "        ssh_password=target_pwd,\n",
        "    ) as tunnel2:\n",
        "        print('Connection to tunnel2 (GW2_ip:GW2_port) OK...')\n",
        "        with SSHClient() as ssh:\n",
        "            ssh.connect('localhost',\n",
        "                port=tunnel2.local_bind_port,\n",
        "                username=username,\n",
        "                password=password,\n",
        "            )\n",
        "            # Добавьте ваш код для выполнения команд через SSH здесь\n"
      ],
      "metadata": {
        "id": "j_rGY2hrGZbq"
      },
      "execution_count": null,
      "outputs": []
    },
    {
      "cell_type": "code",
      "source": [
        "stdin, stdout, stderr = ssh.exec_command('ps aux')\n",
        "print(stdout.read().decode())\n"
      ],
      "metadata": {
        "id": "MRxcEaxjGcOa"
      },
      "execution_count": null,
      "outputs": []
    },
    {
      "cell_type": "code",
      "source": [
        "stdin, stdout, stderr = ssh.exec_command('ifconfig')\n",
        "print(stdout.read().decode())\n"
      ],
      "metadata": {
        "id": "C4lSf3RpGc9y"
      },
      "execution_count": null,
      "outputs": []
    }
  ]
}